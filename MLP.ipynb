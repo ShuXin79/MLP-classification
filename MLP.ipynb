{
  "nbformat": 4,
  "nbformat_minor": 0,
  "metadata": {
    "colab": {
      "provenance": []
    },
    "kernelspec": {
      "name": "python3",
      "display_name": "Python 3"
    },
    "language_info": {
      "name": "python"
    }
  },
  "cells": [
    {
      "cell_type": "markdown",
      "source": [
        "# Multi-Layer Perceptron(MLP) for Multi-Classification Problems"
      ],
      "metadata": {
        "id": "LOy0mphPNJGF"
      }
    },
    {
      "cell_type": "markdown",
      "source": [
        "### University of the Sydney COMP5329 S1 Assignment1\n",
        "\n",
        "### From Xin Shu   SID: 500623789\n",
        "\n"
      ],
      "metadata": {
        "id": "7pLf0Ya-DqB-"
      }
    },
    {
      "cell_type": "markdown",
      "source": [
        "## 1. Required Packages and Data Import"
      ],
      "metadata": {
        "id": "tC6Bt794ORjH"
      }
    },
    {
      "cell_type": "markdown",
      "source": [
        "### 1.1 Import the packages"
      ],
      "metadata": {
        "id": "KREEmmWhOouG"
      }
    },
    {
      "cell_type": "code",
      "source": [
        "import numpy as np\n",
        "import matplotlib.pyplot as pl\n",
        "from ipywidgets import interact, widgets\n",
        "from matplotlib import animation"
      ],
      "metadata": {
        "id": "XDYNB1FfOurM"
      },
      "execution_count": null,
      "outputs": []
    },
    {
      "cell_type": "markdown",
      "source": [
        "### 1.2 Read data"
      ],
      "metadata": {
        "id": "5MSmLJTjOvQ0"
      }
    },
    {
      "cell_type": "markdown",
      "source": [
        "Get data from GitHub: need to clone my reposity.\n",
        "\n",
        "Note: If you have already cloned, you don't need to run this part of the code."
      ],
      "metadata": {
        "id": "1H63FTES-bLd"
      }
    },
    {
      "cell_type": "code",
      "source": [
        "!git clone https://github.com/ShuXin79/MLP-classification"
      ],
      "metadata": {
        "colab": {
          "base_uri": "https://localhost:8080/"
        },
        "id": "_e4gWn7q-eUv",
        "outputId": "e7b1541f-963e-4997-9a46-12f7f865506c"
      },
      "execution_count": null,
      "outputs": [
        {
          "output_type": "stream",
          "name": "stdout",
          "text": [
            "Cloning into 'MLP-classification'...\n",
            "remote: Enumerating objects: 16, done.\u001b[K\n",
            "remote: Counting objects: 100% (9/9), done.\u001b[K\n",
            "remote: Compressing objects: 100% (8/8), done.\u001b[K\n",
            "remote: Total 16 (delta 0), reused 9 (delta 0), pack-reused 7\u001b[K\n",
            "Unpacking objects: 100% (16/16), 56.52 MiB | 9.68 MiB/s, done.\n"
          ]
        }
      ]
    },
    {
      "cell_type": "code",
      "source": [
        "DATASET_PATH = 'MLP-classification/dataset'     #Relative path\n",
        "\n",
        "X_train = np.load(DATASET_PATH + '/train_data.npy')\n",
        "X_test = np.load(DATASET_PATH + '/test_data.npy')\n",
        "\n",
        "y_train = np.load(DATASET_PATH + '/train_label.npy')\n",
        "y_test = np.load(DATASET_PATH + '/test_label.npy')\n",
        "\n",
        "print(\"The size of training set data, test set data, training set label, test set label:\")\n",
        "print(X_train.shape)\n",
        "print(y_train.shape)\n",
        "print(X_test.shape)\n",
        "print(y_test.shape)"
      ],
      "metadata": {
        "colab": {
          "base_uri": "https://localhost:8080/"
        },
        "id": "lcbQqFmwPBhf",
        "outputId": "075327a5-6082-47b8-e73e-c3077495fee4"
      },
      "execution_count": null,
      "outputs": [
        {
          "output_type": "stream",
          "name": "stdout",
          "text": [
            "The size of training set data, test set data, training set label, test set label:\n",
            "(50000, 128)\n",
            "(50000, 1)\n",
            "(10000, 128)\n",
            "(10000, 1)\n"
          ]
        }
      ]
    },
    {
      "cell_type": "markdown",
      "source": [
        "### 1.3 Label to one-hot"
      ],
      "metadata": {
        "id": "NdROHBwjolxv"
      }
    },
    {
      "cell_type": "code",
      "source": [
        "def OneHot(label_array):\n",
        "\n",
        "  unique_label = list(set(label_array))\n",
        "  label_dic = {j: i for i, j in enumerate(unique_label)}    # Build dictionary for unique labels\n",
        "  one_hot_label = [[0] * len(unique_label) for _ in range(len(label_array))]  #Initialize all elements to 0\n",
        "  for i, j in enumerate(label_array):            # Update one-hot labels\n",
        "    one_hot_label[i][label_dic[j]] = 1\n",
        "  return (one_hot_label)\n",
        "\n",
        "y_train = OneHot(y_train.reshape(50000,))\n",
        "y_train = np.array(y_train)\n",
        "y_test = OneHot(y_test.reshape(10000,))\n",
        "y_test = np.array(y_test)\n",
        "\n",
        "print(y_test)\n"
      ],
      "metadata": {
        "colab": {
          "base_uri": "https://localhost:8080/"
        },
        "id": "zo7ObKNNgV8C",
        "outputId": "83b5f7f2-5d3d-40b6-e955-6c3eb1a34d2f"
      },
      "execution_count": null,
      "outputs": [
        {
          "output_type": "stream",
          "name": "stdout",
          "text": [
            "[[0 0 0 ... 0 0 0]\n",
            " [0 0 0 ... 0 1 0]\n",
            " [0 0 0 ... 0 1 0]\n",
            " ...\n",
            " [0 0 0 ... 0 0 0]\n",
            " [0 1 0 ... 0 0 0]\n",
            " [0 0 0 ... 1 0 0]]\n"
          ]
        }
      ]
    },
    {
      "cell_type": "markdown",
      "source": [
        "## 2.Function Definition"
      ],
      "metadata": {
        "id": "EkfOI9fwVEqr"
      }
    },
    {
      "cell_type": "markdown",
      "source": [
        "### 2.1 Activation function"
      ],
      "metadata": {
        "id": "3qBAEwPZjs_Z"
      }
    },
    {
      "cell_type": "markdown",
      "source": [
        "ReLU(x) = max(x,0)"
      ],
      "metadata": {
        "id": "JHAiJaikxJBG"
      }
    },
    {
      "cell_type": "code",
      "source": [
        "def relu(x):\n",
        "    return np.maximum(0, x)\n",
        "\n",
        "def relu_derivative(x):\n",
        "    return (x > 0).astype(float)"
      ],
      "metadata": {
        "id": "SN2FzQKUj1jr"
      },
      "execution_count": null,
      "outputs": []
    },
    {
      "cell_type": "markdown",
      "source": [
        "### 2.2 Softmax and cross-entropy function"
      ],
      "metadata": {
        "id": "AaDRWV__8fez"
      }
    },
    {
      "cell_type": "markdown",
      "source": [
        "softmax(x_i) = e^x_i / sum(e^x_j) for all j\n",
        "\n",
        "Cross entropy loss = -Σ(y_true * log(y_pred) + (1-y_true) * log(1-y_pred))"
      ],
      "metadata": {
        "id": "8i1888-3wqF8"
      }
    },
    {
      "cell_type": "code",
      "source": [
        "# Since softmax is used in the output layer, we don't need to define derivative function\n",
        "def softmax(x):\n",
        "  exp_x = np.exp(x - np.max(x, axis=1, keepdims=True))\n",
        "  return exp_x / np.sum(exp_x, axis=1, keepdims=True)\n",
        "\n",
        "def cross_entropy_loss(y_true, y_pred):\n",
        "  n_sample = y_true.shape[0]\n",
        "  return -np.sum(y_true * np.log(y_pred)) / n_sample"
      ],
      "metadata": {
        "id": "5u6Q-akg8elm"
      },
      "execution_count": null,
      "outputs": []
    },
    {
      "cell_type": "markdown",
      "source": [
        "### 2.3 Dropout function"
      ],
      "metadata": {
        "id": "JQAgXAKLY2vq"
      }
    },
    {
      "cell_type": "code",
      "source": [
        "def dropout_forward(all_neu, dropout_rate):\n",
        "  dropout_neu = (np.random.rand(*all_neu.shape) >= dropout_rate) / (1 - dropout_rate)  # Drop some neurons according to probability， drop rate\n",
        "  keep_neu = all_neu * dropout_neu\n",
        "  return keep_neu, dropout_neu\n",
        "\n",
        "def dropout_backward(bac_keep, dropout_neu):\n",
        "  bac_neu = bac_keep * dropout_neu\n",
        "  return bac_neu"
      ],
      "metadata": {
        "id": "lWLXj1OmY1js"
      },
      "execution_count": null,
      "outputs": []
    },
    {
      "cell_type": "markdown",
      "source": [
        "### 2.4 Mini-batch splitting function"
      ],
      "metadata": {
        "id": "Pd2JHTtbYqO_"
      }
    },
    {
      "cell_type": "code",
      "source": [
        "def mini_batch_split(X, y, batch_size):\n",
        "  batch = np.arange(X.shape[0])\n",
        "  np.random.shuffle(batch)     # Mess up the order\n",
        "  mini_batches = [(X[batch][i:i + batch_size], y[batch][i:i + batch_size]) for i in range(0, X.shape[0], batch_size)] #Spilt into several batches that have the given batch size\n",
        "  return mini_batches"
      ],
      "metadata": {
        "id": "Q7ImAa_-qEC5"
      },
      "execution_count": null,
      "outputs": []
    },
    {
      "cell_type": "markdown",
      "source": [
        "### 2.5 Batch Normalization"
      ],
      "metadata": {
        "id": "vRaVnymbdJWw"
      }
    },
    {
      "cell_type": "markdown",
      "source": [
        "*This part is not applied in the model, because there is a problem with the update found during testing."
      ],
      "metadata": {
        "id": "B0Yr4lEcdMdl"
      }
    },
    {
      "cell_type": "code",
      "source": [
        "# Parameters\n",
        "# gamma and beta: they are actually weight and bias, they will be updated in batch normalization\n",
        "# eps: a small value prevents numerical calculation errors\n",
        "# mean and var represent mean and variance\n",
        "def batch_norm_forward(X, gamma, beta, eps=1e-8):\n",
        "    mean = np.mean(X)\n",
        "    var = np.var(X)\n",
        "    X_norm = (X - mean) / np.sqrt(var + eps)  # Normalization\n",
        "    norm_output = gamma * X_norm + beta\n",
        "    cache = (X, X_norm, mean, var, gamma, beta, eps)\n",
        "    return norm_output, cache\n",
        "\n",
        "def batch_norm_backward(dnorm_output, cache):\n",
        "    X, X_norm, mean, var, gamma, beta, eps = cache\n",
        "    dX_norm = dnorm_output * gamma\n",
        "    dvar = np.sum(dX_norm * (X - mean) * (-0.5) * (var + eps)**(-1.5))\n",
        "    dmean = np.sum(-dX_norm / np.sqrt(var + eps)) - dvar * np.mean(2 * (X - mean))\n",
        "    dX = dX_norm / np.sqrt(var + eps) + dvar * 2 * (X - mean) / X.shape[0] + dmean / X.shape[0]\n",
        "    dgamma = np.sum(dnorm_output * X_norm)      # Update gamma and beta\n",
        "    dbeta = np.sum(dnorm_output)\n",
        "    return dX, dgamma, dbeta"
      ],
      "metadata": {
        "id": "Lc1e4uvyYT-9"
      },
      "execution_count": null,
      "outputs": []
    },
    {
      "cell_type": "markdown",
      "source": [
        "## 3. MLP Implementation"
      ],
      "metadata": {
        "id": "tpz-p29qkox1"
      }
    },
    {
      "cell_type": "markdown",
      "source": [
        "### 3.1 **Three** HiddenLayers definition and initialization"
      ],
      "metadata": {
        "id": "vAORwc-HfAoK"
      }
    },
    {
      "cell_type": "code",
      "source": [
        "# Define the neural structure\n",
        "input_size = X_train.shape[1]   # 128\n",
        "hidden_size1 = 256\n",
        "hidden_size2 = 128\n",
        "hidden_size3 = 64\n",
        "output_size = y_train.shape[1]   # 10\n",
        "\n",
        "\n",
        "# Initialize the weights and biases\n",
        "# Wi, bi: The weights matrix and bias\n",
        "\n",
        "W1 = np.random.randn(input_size, hidden_size1) / np.sqrt(input_size)\n",
        "b1 = np.zeros((1, hidden_size1))\n",
        "W2 = np.random.randn(hidden_size1, hidden_size2) / np.sqrt(hidden_size1)\n",
        "b2 = np.zeros((1, hidden_size2))\n",
        "W3 = np.random.randn(hidden_size2, hidden_size3) / np.sqrt(hidden_size2)\n",
        "b3 = np.zeros((1, hidden_size3))\n",
        "W4 = np.random.randn(hidden_size3, output_size) / np.sqrt(hidden_size3)\n",
        "b4 = np.zeros((1, output_size))\n",
        "\n"
      ],
      "metadata": {
        "id": "hwSkaHZuvsQO"
      },
      "execution_count": null,
      "outputs": []
    },
    {
      "cell_type": "markdown",
      "source": [
        "### 3.2 Momentum-weights&biases initialization"
      ],
      "metadata": {
        "id": "7iFeRGsxlKTz"
      }
    },
    {
      "cell_type": "code",
      "source": [
        "# Initialize velocity for momentum\n",
        "Mom_W1 = np.zeros(W1.shape)\n",
        "Mom_b1 = np.zeros(b1.shape)\n",
        "Mom_W2 = np.zeros(W2.shape)\n",
        "Mom_b2 = np.zeros(b2.shape)\n",
        "Mom_W3 = np.zeros(W3.shape)\n",
        "Mom_b3 = np.zeros(b3.shape)\n",
        "Mom_W4 = np.zeros(W4.shape)\n",
        "Mom_b4 = np.zeros(b4.shape)"
      ],
      "metadata": {
        "id": "uMubtyxjXmUt"
      },
      "execution_count": null,
      "outputs": []
    },
    {
      "cell_type": "markdown",
      "source": [
        "### 3.3 Training: forward propagation and backward propagation"
      ],
      "metadata": {
        "id": "_VxJp1w5LHD4"
      }
    },
    {
      "cell_type": "code",
      "source": [
        "import time\n",
        "\n",
        "# Define the parameters, which can be changed easily for model improvement\n",
        "epochs = 500\n",
        "learning_rate = 0.001\n",
        "momentum = 0.8\n",
        "weight_decay = 0.00001\n",
        "batch_size = 512\n",
        "dropout_rate = 0.2\n",
        "\n",
        "start_time = time.time()\n",
        "total_loss = []\n",
        "\n",
        "# Training loop\n",
        "for epoch in range(epochs):\n",
        "  mini_batch = mini_batch_split(X_train, y_train, batch_size)\n",
        "\n",
        "  for X_batch, y_batch in mini_batch:\n",
        "\n",
        "    # Forward propagation\n",
        "    # Zi, Ai: The initial output value of the layer and the activated value\n",
        "\n",
        "    Z1 = np.dot(X_batch, W1) + b1\n",
        "    A1 = relu(Z1)\n",
        "    #I only added the dropout method to the first hidden layer (I found underfitting easily occurred so I don't want to apply dropout across the board)\n",
        "    A1, dropout_neu = dropout_forward(A1, dropout_rate) \n",
        "    Z2 = np.dot(A1, W2) + b2\n",
        "    A2 = relu(Z2)\n",
        "    Z3 = np.dot(A2, W3) + b3\n",
        "    A3 = relu(Z3)\n",
        "    Z4 = np.dot(A3, W4) + b4\n",
        "    A4 = softmax(Z4)\n",
        "    \n",
        "    # Compute loss with weight decay\n",
        "    loss = cross_entropy_loss(y_batch, A4) + weight_decay * (np.sum(np.square(W1)) + np.sum(np.square(W2)) + np.sum(np.square(W3)) + np.sum(np.square(W4)))\n",
        "\n",
        "    # Backward propagation\n",
        "    # dZi, dWi, dbi: Output values from backward propagation and updated weights/biases. 'd' means partial derivative, used to computes the gradients and update weights\n",
        "\n",
        "    dZ4 = A4 - y_batch\n",
        "    dW4 = np.dot(A3.T, dZ4) / X_batch.shape[0]\n",
        "    db4 = np.sum(dZ4, axis=0) / X_batch.shape[0]\n",
        "    dA3 = np.dot(dZ4, W4.T)\n",
        "    dZ3 = dA3 * relu_derivative(Z3)\n",
        "    dW3 = np.dot(A2.T, dZ3) / X_batch.shape[0]\n",
        "    db3 = np.sum(dZ3, axis=0) / X_batch.shape[0]\n",
        "    dA2 = np.dot(dZ3, W3.T)\n",
        "    dZ2 = dA2 * relu_derivative(Z2)\n",
        "    dW2 = np.dot(A1.T, dZ2) / X_batch.shape[0]\n",
        "    db2 = np.sum(dZ2, axis=0) / X_batch.shape[0]\n",
        "    dA1 = np.dot(dZ2, W2.T)\n",
        "    dA1 = dropout_backward(dA1, dropout_neu)\n",
        "    dZ1 = dA1 * relu_derivative(Z1)\n",
        "    dW1 = np.dot(X_batch.T, dZ1) + weight_decay * W1\n",
        "    db1 = np.sum(dZ1, axis=0) / X_batch.shape[0]\n",
        "\n",
        "    # Update gradients with weight decay\n",
        "    dW1 += weight_decay * W1\n",
        "    dW2 += weight_decay * W2\n",
        "    dW3 += weight_decay * W3\n",
        "    dW4 += weight_decay * W4\n",
        "\n",
        "    # Update weights and biases with momentum\n",
        "    Mom_W4 = momentum * Mom_W4 + learning_rate * dW4\n",
        "    W4 -= Mom_W4\n",
        "    Mom_b4 = momentum * Mom_b4 + learning_rate * db4\n",
        "    b4 -= Mom_b4\n",
        "\n",
        "    Mom_W3 = momentum * Mom_W3 + learning_rate * dW3\n",
        "    W3 -= Mom_W3\n",
        "    Mom_b3 = momentum * Mom_b3 + learning_rate * db3\n",
        "    b3 -= Mom_b3\n",
        "\n",
        "    Mom_W2 = momentum * Mom_W2 + learning_rate * dW2\n",
        "    W2 -= Mom_W2\n",
        "    Mom_b2 = momentum * Mom_b2 + learning_rate * db2\n",
        "    b2 -= Mom_b2\n",
        "\n",
        "    Mom_W1 = momentum * Mom_W1 + learning_rate * dW1\n",
        "    W1 -= Mom_W1\n",
        "    Mom_b1 = momentum * Mom_b1 + learning_rate * db1\n",
        "    b1 -= Mom_b1\n",
        "\n",
        "\n",
        "  total_loss.append(loss)\n",
        "  # Print loss every 10 epochs\n",
        "  if epoch % 10 == 0:\n",
        "    print(f\"Epoch {epoch}, Loss: {loss:.4f}\")\n",
        "\n",
        "end_time = time.time()"
      ],
      "metadata": {
        "colab": {
          "base_uri": "https://localhost:8080/"
        },
        "id": "LxHrhwdSLJFx",
        "outputId": "a6d88345-90c8-4ece-d61b-1d3d3362c3cd"
      },
      "execution_count": null,
      "outputs": [
        {
          "output_type": "stream",
          "name": "stdout",
          "text": [
            "Epoch 0, Loss: 1.7221\n",
            "Epoch 10, Loss: 1.4073\n",
            "Epoch 20, Loss: 1.4616\n",
            "Epoch 30, Loss: 1.2865\n",
            "Epoch 40, Loss: 1.3180\n",
            "Epoch 50, Loss: 1.2032\n",
            "Epoch 60, Loss: 1.3174\n",
            "Epoch 70, Loss: 1.2002\n",
            "Epoch 80, Loss: 1.2555\n",
            "Epoch 90, Loss: 1.1299\n",
            "Epoch 100, Loss: 1.1376\n",
            "Epoch 110, Loss: 1.1260\n",
            "Epoch 120, Loss: 1.1713\n",
            "Epoch 130, Loss: 1.1988\n",
            "Epoch 140, Loss: 1.1291\n",
            "Epoch 150, Loss: 1.1814\n",
            "Epoch 160, Loss: 1.0447\n",
            "Epoch 170, Loss: 1.0594\n",
            "Epoch 180, Loss: 1.1305\n",
            "Epoch 190, Loss: 1.0938\n",
            "Epoch 200, Loss: 1.0969\n",
            "Epoch 210, Loss: 1.1536\n",
            "Epoch 220, Loss: 1.0946\n",
            "Epoch 230, Loss: 1.0796\n",
            "Epoch 240, Loss: 1.0512\n",
            "Epoch 250, Loss: 1.0354\n",
            "Epoch 260, Loss: 1.1906\n",
            "Epoch 270, Loss: 1.0466\n",
            "Epoch 280, Loss: 1.1115\n",
            "Epoch 290, Loss: 1.0367\n",
            "Epoch 300, Loss: 1.1160\n",
            "Epoch 310, Loss: 1.0187\n",
            "Epoch 320, Loss: 1.1283\n",
            "Epoch 330, Loss: 1.0883\n",
            "Epoch 340, Loss: 1.0153\n",
            "Epoch 350, Loss: 1.0202\n",
            "Epoch 360, Loss: 0.9919\n",
            "Epoch 370, Loss: 1.0433\n",
            "Epoch 380, Loss: 1.0437\n",
            "Epoch 390, Loss: 0.9843\n",
            "Epoch 400, Loss: 1.0828\n",
            "Epoch 410, Loss: 1.0240\n",
            "Epoch 420, Loss: 1.0319\n",
            "Epoch 430, Loss: 0.9677\n",
            "Epoch 440, Loss: 1.0340\n",
            "Epoch 450, Loss: 0.9445\n",
            "Epoch 460, Loss: 1.0063\n",
            "Epoch 470, Loss: 0.9572\n",
            "Epoch 480, Loss: 0.9441\n",
            "Epoch 490, Loss: 1.0860\n"
          ]
        }
      ]
    },
    {
      "cell_type": "code",
      "source": [
        "# Plot loss in epochs\n",
        "pl.figure(figsize=(15,4))\n",
        "pl.plot(total_loss)\n",
        "pl.grid()"
      ],
      "metadata": {
        "colab": {
          "base_uri": "https://localhost:8080/",
          "height": 323
        },
        "id": "tLtcJKb7rD0Q",
        "outputId": "7e2337c3-8213-4933-dcf7-68387424c74d"
      },
      "execution_count": null,
      "outputs": [
        {
          "output_type": "display_data",
          "data": {
            "text/plain": [
              "<Figure size 1500x400 with 1 Axes>"
            ],
            "image/png": "[encoded data removed]"
          },
          "metadata": {}
        }
      ]
    },
    {
      "cell_type": "markdown",
      "source": [
        "## 4. Test and Evaluation"
      ],
      "metadata": {
        "id": "pIqPUhwALUSb"
      }
    },
    {
      "cell_type": "markdown",
      "source": [
        "### 4.1 Test\n"
      ],
      "metadata": {
        "id": "wA7DOiQh1Ave"
      }
    },
    {
      "cell_type": "code",
      "source": [
        "# The test is actually to perform the forward propagation process again\n",
        "Z1_test = np.dot(X_test, W1) + b1\n",
        "A1_test = relu(Z1_test)\n",
        "Z2_test = np.dot(A1_test, W2) + b2\n",
        "A2_test = relu(Z2_test)\n",
        "Z3_test = np.dot(A2_test, W3) + b3\n",
        "A3_test = relu(Z3_test)\n",
        "Z4_test = np.dot(A3_test, W4) + b4\n",
        "A4_test = softmax(Z4_test)\n",
        "\n",
        "\n",
        "# Make prediction\n",
        "y_pred = np.argmax(A4_test, axis=1)\n",
        "y_true = np.argmax(y_test, axis=1)\n",
        "\n",
        "print('Classification complete!')\n",
        "print('Time cost:', round(end_time-start_time,2), 'seconds')\n",
        "print('Predicted label:')\n",
        "print(y_pred)\n",
        "print('True label:')\n",
        "print(y_true)\n",
        "\n"
      ],
      "metadata": {
        "colab": {
          "base_uri": "https://localhost:8080/"
        },
        "id": "gUD67g71wlww",
        "outputId": "4d847d15-351d-4897-a7a2-1566040835a5"
      },
      "execution_count": null,
      "outputs": [
        {
          "output_type": "stream",
          "name": "stdout",
          "text": [
            "Classification complete!\n",
            "Time cost: 2108.29 seconds\n",
            "Predicted label:\n",
            "[3 8 8 ... 5 5 7]\n",
            "True label:\n",
            "[3 8 8 ... 5 1 7]\n"
          ]
        }
      ]
    },
    {
      "cell_type": "markdown",
      "source": [
        "### 4.2 Calculate accuracy"
      ],
      "metadata": {
        "id": "DisR0Z8YAT-f"
      }
    },
    {
      "cell_type": "markdown",
      "source": [
        "Accuracy = (TP + TN) / (TP+ FP + TN + FN)"
      ],
      "metadata": {
        "id": "dHRGSv9iAYw3"
      }
    },
    {
      "cell_type": "code",
      "source": [
        "count = len(y_true)\n",
        "correct = sum(t == p for t, p in zip(y_true, y_pred)) \n",
        "accuracy = correct / count\n",
        "\n",
        "print(f'Accuracy: {accuracy * 100:.2f}%')"
      ],
      "metadata": {
        "colab": {
          "base_uri": "https://localhost:8080/"
        },
        "id": "MXreUhE-_bgz",
        "outputId": "a7d59d6c-2992-46f1-e13d-3a311fac596d"
      },
      "execution_count": null,
      "outputs": [
        {
          "output_type": "stream",
          "name": "stdout",
          "text": [
            "Accuracy: 56.94%\n"
          ]
        }
      ]
    },
    {
      "cell_type": "markdown",
      "source": [
        "### 4.3 Show the confusion matrix"
      ],
      "metadata": {
        "id": "9a0-_D6uAakN"
      }
    },
    {
      "cell_type": "markdown",
      "source": [
        "An n*n matrix showing TP TN FP FN, where n represents the number of label types. The diagonal of the matrix represents the correct classification."
      ],
      "metadata": {
        "id": "7XE0I6xFBvJt"
      }
    },
    {
      "cell_type": "code",
      "source": [
        "num_classes = max(max(y_true), max(y_pred)) + 1\n",
        "cm = [[0] * num_classes for _ in range(num_classes)]\n",
        "for true, pred in zip(y_true, y_pred):\n",
        "  cm[true][pred] += 1\n",
        "\n",
        "print('Confusion Matrix:')\n",
        "for row in cm:\n",
        "    print(row)"
      ],
      "metadata": {
        "colab": {
          "base_uri": "https://localhost:8080/"
        },
        "id": "rcusru05-FCg",
        "outputId": "7dc5601e-879b-42b4-94bd-960216939127"
      },
      "execution_count": null,
      "outputs": [
        {
          "output_type": "stream",
          "name": "stdout",
          "text": [
            "Confusion Matrix:\n",
            "[628, 43, 65, 17, 34, 15, 22, 17, 101, 58]\n",
            "[25, 672, 10, 25, 16, 17, 15, 18, 49, 153]\n",
            "[69, 16, 398, 74, 145, 95, 97, 63, 21, 22]\n",
            "[20, 16, 69, 385, 80, 192, 109, 72, 21, 36]\n",
            "[28, 10, 135, 58, 489, 56, 92, 97, 22, 13]\n",
            "[16, 5, 65, 174, 73, 491, 73, 75, 9, 19]\n",
            "[3, 16, 54, 77, 95, 53, 662, 17, 8, 15]\n",
            "[19, 8, 32, 48, 88, 83, 24, 656, 12, 30]\n",
            "[88, 70, 11, 27, 34, 20, 13, 8, 679, 50]\n",
            "[26, 154, 13, 23, 17, 20, 26, 41, 46, 634]\n"
          ]
        }
      ]
    },
    {
      "cell_type": "markdown",
      "source": [
        "Obviously the classification of the 3rd, 4th, 5th, and 6th labels is not good. Since the model fits well on the test set, I strongly suspect that this is not my problem LOL"
      ],
      "metadata": {
        "id": "z9nWBVd9CTZk"
      }
    },
    {
      "cell_type": "markdown",
      "source": [
        "## 5. Comparison and Improvement"
      ],
      "metadata": {
        "id": "7H8vJ7x-nueS"
      }
    },
    {
      "cell_type": "markdown",
      "source": [
        "###5.1 ONLY USED FOR COMPARISON: MLP classifier based on sklearn framework."
      ],
      "metadata": {
        "id": "_mR2v-MtFsds"
      }
    },
    {
      "cell_type": "markdown",
      "source": [
        "I used sklearn to build the most basic MLP classifier, hoping to compare \n",
        "it with my own MLP implemented above. Note: The classifiers in this part \n",
        "are **ONLY USED TO COMPARE** the MLP I implemented manually, please do not \n",
        "impose score penalties for this!"
      ],
      "metadata": {
        "id": "YFHsxXQjDb5y"
      }
    },
    {
      "cell_type": "code",
      "source": [
        "import numpy as np\n",
        "from sklearn.datasets import load_iris\n",
        "from sklearn.model_selection import train_test_split\n",
        "from sklearn.neural_network import MLPClassifier\n",
        "from sklearn.metrics import accuracy_score\n",
        "\n",
        "start_time1 = time.time()\n",
        "\n",
        "X_train1 = np.load(DATASET_PATH + '/train_data.npy')\n",
        "X_test1 = np.load(DATASET_PATH + '/test_data.npy')\n",
        "\n",
        "y_train1 = np.load(DATASET_PATH + '/train_label.npy')\n",
        "y_test1 = np.load(DATASET_PATH + '/test_label.npy')\n",
        "y_train1 = y_train1.reshape(50000,)\n",
        "y_test1 = y_test1.reshape(10000,)\n",
        "\n",
        "\n",
        "mlp_classifier = MLPClassifier(hidden_layer_sizes=(100,), activation='relu', solver='adam', random_state=42, max_iter=500)\n",
        "\n",
        "mlp_classifier.fit(X_train1, y_train1)\n",
        "\n",
        "y_pred1 = mlp_classifier.predict(X_test1)\n",
        "\n",
        "accuracy1 = accuracy_score(y_test1, y_pred1)\n",
        "print(f'Accuracy: {accuracy1 * 100:.2f}%')\n",
        "\n",
        "end_time1 = time.time()\n",
        "print('Time cost:', round(end_time1-start_time1,2), 'seconds')"
      ],
      "metadata": {
        "colab": {
          "base_uri": "https://localhost:8080/"
        },
        "id": "IWuJ_PJSDSnc",
        "outputId": "79d98957-4521-4b5f-f764-c160d9eb6f22"
      },
      "execution_count": null,
      "outputs": [
        {
          "output_type": "stream",
          "name": "stdout",
          "text": [
            "Accuracy: 51.18%\n",
            "Time cost: 257.49 seconds\n"
          ]
        }
      ]
    },
    {
      "cell_type": "markdown",
      "source": [
        "The performance of model based on sklearn is not good either."
      ],
      "metadata": {
        "id": "nXjegvk1DCMH"
      }
    },
    {
      "cell_type": "markdown",
      "source": [
        "###5.2 Performance improvement attempt: use GELU activation function instead of ReLU"
      ],
      "metadata": {
        "id": "5tcAsGzIoqXp"
      }
    },
    {
      "cell_type": "code",
      "source": [
        "from scipy.special import erf\n",
        "import time\n",
        "\n",
        "# Initialization, the same as privious code\n",
        "input_size = X_train.shape[1]\n",
        "hidden_size1 = 128\n",
        "hidden_size2 = 64\n",
        "hidden_size3 = 32\n",
        "output_size = y_train.shape[1]\n",
        "\n",
        "W1 = np.random.randn(input_size, hidden_size1) / np.sqrt(input_size)\n",
        "b1 = np.zeros((1, hidden_size1))\n",
        "W2 = np.random.randn(hidden_size1, hidden_size2) / np.sqrt(hidden_size1)\n",
        "b2 = np.zeros((1, hidden_size2))\n",
        "W3 = np.random.randn(hidden_size2, hidden_size3) / np.sqrt(hidden_size2)\n",
        "b3 = np.zeros((1, hidden_size3))\n",
        "W4 = np.random.randn(hidden_size3, output_size) / np.sqrt(hidden_size3)\n",
        "b4 = np.zeros((1, output_size))\n",
        "\n",
        "Mom_W1 = np.zeros(W1.shape)\n",
        "Mom_b1 = np.zeros(b1.shape)\n",
        "Mom_W2 = np.zeros(W2.shape)\n",
        "Mom_b2 = np.zeros(b2.shape)\n",
        "Mom_W3 = np.zeros(W3.shape)\n",
        "Mom_b3 = np.zeros(b3.shape)\n",
        "Mom_W4 = np.zeros(W4.shape)\n",
        "Mom_b4 = np.zeros(b4.shape)\n",
        "\n",
        "# Define the GELU function\n",
        "def gelu(x):\n",
        "    return 0.5 * x * (1 + erf(x / np.sqrt(2)))\n",
        "\n",
        "def gelu_derivative(x):\n",
        "    c = np.sqrt(2 / np.pi)\n",
        "    return 0.5 * (1 + erf(x / np.sqrt(2))) + c * x * np.exp(-x**2 / 2)\n",
        "\n",
        "# The same code as before, but changed ReLU activition function to GELU \n",
        "\n",
        "epochs = 200  \n",
        "\n",
        "learning_rate = 0.001\n",
        "momentum = 0.8\n",
        "weight_decay = 0.00001\n",
        "batch_size = 512\n",
        "dropout_rate = 0.2\n",
        "\n",
        "start_time = time.time()\n",
        "total_loss = []\n",
        "\n",
        "for epoch in range(epochs):\n",
        "  mini_batches = mini_batch_split(X_train, y_train, batch_size)\n",
        "\n",
        "  for X_batch, y_batch in mini_batches:\n",
        "\n",
        "    Z1 = np.dot(X_batch, W1) + b1\n",
        "    A1 = gelu(Z1)\n",
        "\n",
        "    A1, dropout_neu = dropout_forward(A1, dropout_rate) \n",
        "    Z2 = np.dot(A1, W2) + b2\n",
        "    A2 = gelu(Z2)\n",
        "    Z3 = np.dot(A2, W3) + b3\n",
        "    A3 = gelu(Z3)\n",
        "    Z4 = np.dot(A3, W4) + b4\n",
        "    A4 = softmax(Z4)\n",
        "\n",
        "    loss = cross_entropy_loss(y_batch, A4) + weight_decay * (np.sum(np.square(W1)) + np.sum(np.square(W2)) + np.sum(np.square(W3)) + np.sum(np.square(W4)))\n",
        "\n",
        "    dZ4 = A4 - y_batch\n",
        "    dW4 = np.dot(A3.T, dZ4) / X_batch.shape[0]\n",
        "    db4 = np.sum(dZ4, axis=0, keepdims=True) / X_batch.shape[0]\n",
        "    dA3 = np.dot(dZ4, W4.T)\n",
        "    dZ3 = dA3 * gelu_derivative(Z3)\n",
        "    dW3 = np.dot(A2.T, dZ3) / X_batch.shape[0]\n",
        "    db3 = np.sum(dZ3, axis=0, keepdims=True) / X_batch.shape[0]\n",
        "    dA2 = np.dot(dZ3, W3.T)\n",
        "    dZ2 = dA2 * gelu_derivative(Z2)\n",
        "    dW2 = np.dot(A1.T, dZ2) / X_batch.shape[0]\n",
        "    db2 = np.sum(dZ2, axis=0, keepdims=True) / X_batch.shape[0]\n",
        "    dA1 = np.dot(dZ2, W2.T)\n",
        "    dA1 = dropout_backward(dA1, dropout_neu)\n",
        "    dZ1 = dA1 * gelu_derivative(Z1)\n",
        "    dW1 = np.dot(X_batch.T, dZ1) + weight_decay * W1\n",
        "    db1 = np.sum(dZ1, axis=0, keepdims=True) / X_batch.shape[0]\n",
        "\n",
        "    # Update gradients with weight decay\n",
        "    dW1 += weight_decay * W1\n",
        "    dW2 += weight_decay * W2\n",
        "    dW3 += weight_decay * W3\n",
        "    dW4 += weight_decay * W4\n",
        "\n",
        "    # Update weights and biases with momentum\n",
        "    Mom_W4 = momentum * Mom_W4 + learning_rate * dW4\n",
        "    W4 -= Mom_W4\n",
        "    Mom_b4 = momentum * Mom_b4 + learning_rate * db4\n",
        "    b4 -= Mom_b4\n",
        "\n",
        "    Mom_W3 = momentum * Mom_W3 + learning_rate * dW3\n",
        "    W3 -= Mom_W3\n",
        "    Mom_b3 = momentum * Mom_b3 + learning_rate * db3\n",
        "    b3 -= Mom_b3\n",
        "\n",
        "    Mom_W2 = momentum * Mom_W2 + learning_rate * dW2\n",
        "    W2 -= Mom_W2\n",
        "    Mom_b2 = momentum * Mom_b2 + learning_rate * db2\n",
        "    b2 -= Mom_b2\n",
        "\n",
        "    Mom_W1 = momentum * Mom_W1 + learning_rate * dW1\n",
        "    W1 -= Mom_W1\n",
        "    Mom_b1 = momentum * Mom_b1 + learning_rate * db1\n",
        "    b1 -= Mom_b1\n",
        "\n",
        "\n",
        "  total_loss.append(loss)\n",
        "  # Print loss every 10 epochs\n",
        "  if epoch % 10 == 0:\n",
        "    print(f\"Epoch {epoch}, Loss: {loss:.4f}\")\n",
        "\n",
        "end_time = time.time()\n"
      ],
      "metadata": {
        "colab": {
          "base_uri": "https://localhost:8080/"
        },
        "id": "0mUo6tpIo_kw",
        "outputId": "20823b73-0c43-40b0-c583-f125e522e465"
      },
      "execution_count": null,
      "outputs": [
        {
          "output_type": "stream",
          "name": "stdout",
          "text": [
            "Epoch 0, Loss: 1.8121\n",
            "Epoch 10, Loss: 1.5762\n",
            "Epoch 20, Loss: 1.4078\n",
            "Epoch 30, Loss: 1.4308\n",
            "Epoch 40, Loss: 1.3716\n",
            "Epoch 50, Loss: 1.3485\n",
            "Epoch 60, Loss: 1.3847\n",
            "Epoch 70, Loss: 1.3045\n",
            "Epoch 80, Loss: 1.3358\n",
            "Epoch 90, Loss: 1.2765\n",
            "Epoch 100, Loss: 1.2521\n",
            "Epoch 110, Loss: 1.3303\n",
            "Epoch 120, Loss: 1.2949\n",
            "Epoch 130, Loss: 1.2255\n",
            "Epoch 140, Loss: 1.3359\n",
            "Epoch 150, Loss: 1.2067\n",
            "Epoch 160, Loss: 1.3543\n",
            "Epoch 170, Loss: 1.2101\n",
            "Epoch 180, Loss: 1.2817\n",
            "Epoch 190, Loss: 1.2531\n"
          ]
        }
      ]
    },
    {
      "cell_type": "code",
      "source": [
        "pl.figure(figsize=(15,4))\n",
        "pl.plot(total_loss)\n",
        "pl.grid()"
      ],
      "metadata": {
        "colab": {
          "base_uri": "https://localhost:8080/",
          "height": 323
        },
        "id": "QjEb5TlUHg7J",
        "outputId": "7d57bf70-fba2-46de-d938-2655c99a316c"
      },
      "execution_count": null,
      "outputs": [
        {
          "output_type": "display_data",
          "data": {
            "text/plain": [
              "<Figure size 1500x400 with 1 Axes>"
            ],
            "image/png": "[encoded data removed]"
          },
          "metadata": {}
        }
      ]
    },
    {
      "cell_type": "code",
      "source": [
        "Z1_test = np.dot(X_test, W1) + b1\n",
        "A1_test = relu(Z1_test)\n",
        "Z2_test = np.dot(A1_test, W2) + b2\n",
        "A2_test = relu(Z2_test)\n",
        "Z3_test = np.dot(A2_test, W3) + b3\n",
        "A3_test = relu(Z3_test)\n",
        "Z4_test = np.dot(A3_test, W4) + b4\n",
        "A4_test = softmax(Z4_test)\n",
        "\n",
        "y_pred = np.argmax(A4_test, axis=1)\n",
        "y_true = np.argmax(y_test, axis=1)\n",
        "\n",
        "print('Classification complete!')\n",
        "print('Time cost:', round(end_time-start_time,2), 'seconds')\n",
        "print('Predicted label:')\n",
        "print(y_pred)\n",
        "print('True label:')\n",
        "print(y_true)\n",
        "\n",
        "count = len(y_true)\n",
        "correct = sum(t == p for t, p in zip(y_true, y_pred)) \n",
        "accuracy = correct / count\n",
        "\n",
        "print(f'Accuracy: {accuracy * 100:.2f}%')\n",
        "\n",
        "num_classes = max(max(y_true), max(y_pred)) + 1\n",
        "cm = [[0] * num_classes for _ in range(num_classes)]\n",
        "for true, pred in zip(y_true, y_pred):\n",
        "  cm[true][pred] += 1\n",
        "\n",
        "print('Confusion Matrix:')\n",
        "for row in cm:\n",
        "    print(row)"
      ],
      "metadata": {
        "colab": {
          "base_uri": "https://localhost:8080/"
        },
        "id": "iQF3wwVNHmIb",
        "outputId": "549672a9-cd57-41c0-fb49-3295577d5404"
      },
      "execution_count": null,
      "outputs": [
        {
          "output_type": "stream",
          "name": "stdout",
          "text": [
            "Classification complete!\n",
            "Time cost: 986.83 seconds\n",
            "Predicted label:\n",
            "[0 8 8 ... 5 5 7]\n",
            "True label:\n",
            "[3 8 8 ... 5 1 7]\n",
            "Accuracy: 54.35%\n",
            "Confusion Matrix:\n",
            "[594, 47, 58, 23, 29, 14, 20, 8, 141, 66]\n",
            "[32, 633, 18, 19, 9, 8, 13, 13, 67, 188]\n",
            "[58, 23, 400, 88, 159, 76, 93, 51, 23, 29]\n",
            "[27, 21, 91, 346, 64, 201, 117, 59, 23, 51]\n",
            "[34, 20, 136, 74, 464, 52, 103, 80, 23, 14]\n",
            "[16, 15, 83, 221, 68, 416, 59, 75, 18, 29]\n",
            "[5, 21, 73, 83, 105, 41, 620, 13, 14, 25]\n",
            "[22, 11, 43, 49, 85, 98, 22, 614, 10, 46]\n",
            "[76, 66, 14, 22, 19, 18, 9, 7, 708, 61]\n",
            "[39, 159, 13, 32, 9, 18, 22, 20, 48, 640]\n"
          ]
        }
      ]
    },
    {
      "cell_type": "markdown",
      "source": [
        "## Summary"
      ],
      "metadata": {
        "id": "xtLKQNpNLOJ3"
      }
    },
    {
      "cell_type": "markdown",
      "source": [
        "In this experiment, I only built a simple three-hidden layer MLP classifier at the beginning, and got an initial accuracy rate of about 40%. By adding various optimizations to the model, the accuracy rate was finally increased to 56.9%. \n",
        "\n",
        "At the beginning, I found that my model was severely underfitting, so I was reluctant to add Dropout and Weight decay. I changed the weight update method to Momentum SGD and found that the convergence speed is greatly improved, The change in becomes very small around 100 epochs. The choice of ReLU and Softmax also effectively avoids gradient disappearance and gradient explosion. \n",
        "\n",
        "There has always been a big problem in the model implementation: colab often crashes due to insufficient RAM, and I don't want to waste money to recharge members to increase the RAM limit :( This problem is alleviated to some extent by using mini batch. \n",
        "\n",
        "Finally, after training for 500 epochs, I found that the accuracy rate reached 98% when verifying on the training set, but the performance on the test set was even worse, and I realized that there was overfitting. So I added dropout (only on the first hidden layer) and used weight decay. In these methods of preventing overfitting, the parameters I set are small, because I think the main problem I face is how to make the model better trained with limited resources.\n",
        "\n",
        "In section 3.3: Training, All the parameters I use have been optimised many times. This notebook only shows what I believe to be the optimal model and parameters. In best result, the accuracy is 56.94%.\n",
        "\n",
        "In section 5 I compared my model to sklearn, found that the performance of my model is better excluding running time. \n",
        "\n",
        "Additionally, for attempt of further optimition, I changed the activition function from ReLU to GeLU (not include the softmax of the last layer). The results show that the process of gradient descent is smoother (it can be seen from the loss), but the running time is longer, which I think is difficult to accept, because my MLP originally ran for a long time (I think this is a shortcoming of the model I implemented). In order to balance the time cost brought by GeLU, I reduced the number of neurons. The results show that under the same parameters (hidden layers 128, 64, 32, epochs = 200), the GeLU activation function brings a better accuracy rate of 54.35 (the ReLU model under the same conditions is only about 52%). "
      ],
      "metadata": {
        "id": "DFJzjbM10sfu"
      }
    }
  ]
}