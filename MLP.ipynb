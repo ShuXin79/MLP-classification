{
  "nbformat": 4,
  "nbformat_minor": 0,
  "metadata": {
    "colab": {
      "provenance": []
    },
    "kernelspec": {
      "name": "python3",
      "display_name": "Python 3"
    },
    "language_info": {
      "name": "python"
    }
  },
  "cells": [
    {
      "cell_type": "markdown",
      "source": [
        "# Multi-Layer Perceptron(MLP) for Multi-Classification Problems"
      ],
      "metadata": {
        "id": "LOy0mphPNJGF"
      }
    },
    {
      "cell_type": "markdown",
      "source": [
        "## 1. Required Packages and Data Import"
      ],
      "metadata": {
        "id": "tC6Bt794ORjH"
      }
    },
    {
      "cell_type": "markdown",
      "source": [
        "### 1.1 Import the packages"
      ],
      "metadata": {
        "id": "KREEmmWhOouG"
      }
    },
    {
      "cell_type": "code",
      "source": [
        "import numpy as np\n",
        "import matplotlib.pyplot as pl\n",
        "from ipywidgets import interact, widgets\n",
        "from matplotlib import animation"
      ],
      "metadata": {
        "id": "XDYNB1FfOurM"
      },
      "execution_count": 1,
      "outputs": []
    },
    {
      "cell_type": "markdown",
      "source": [
        "### 1.2 Read data"
      ],
      "metadata": {
        "id": "5MSmLJTjOvQ0"
      }
    },
    {
      "cell_type": "code",
      "source": [
        "!git clone https://github.com/ShuXin79/MLP-classification"
      ],
      "metadata": {
        "colab": {
          "base_uri": "https://localhost:8080/"
        },
        "id": "_e4gWn7q-eUv",
        "outputId": "793b2e55-3f50-4cf9-bd58-154d260e2bdd"
      },
      "execution_count": 2,
      "outputs": [
        {
          "output_type": "stream",
          "name": "stdout",
          "text": [
            "Cloning into 'MLP-classification'...\n",
            "remote: Enumerating objects: 13, done.\u001b[K\n",
            "remote: Counting objects: 100% (6/6), done.\u001b[K\n",
            "remote: Compressing objects: 100% (5/5), done.\u001b[K\n",
            "remote: Total 13 (delta 0), reused 6 (delta 0), pack-reused 7\u001b[K\n",
            "Unpacking objects: 100% (13/13), 56.43 MiB | 7.29 MiB/s, done.\n"
          ]
        }
      ]
    },
    {
      "cell_type": "code",
      "source": [
        "DATASET_PATH = 'MLP-classification/dataset'     #Relative path\n",
        "\n",
        "X_train = np.load(DATASET_PATH + '/train_data.npy')\n",
        "X_test = np.load(DATASET_PATH + '/test_data.npy')\n",
        "\n",
        "y_train = np.load(DATASET_PATH + '/train_label.npy')\n",
        "y_test = np.load(DATASET_PATH + '/test_label.npy')\n",
        "\n",
        "print(\"The size of training set data, test set data, training set label, test set label:\")\n",
        "print(X_train.shape)\n",
        "print(y_train.shape)\n",
        "print(X_test.shape)\n",
        "print(y_test.shape)"
      ],
      "metadata": {
        "colab": {
          "base_uri": "https://localhost:8080/"
        },
        "id": "lcbQqFmwPBhf",
        "outputId": "ddda975c-0706-41d0-ff9d-7da4e5e16e01"
      },
      "execution_count": 3,
      "outputs": [
        {
          "output_type": "stream",
          "name": "stdout",
          "text": [
            "The size of training set data, test set data, training set label, test set label:\n",
            "(50000, 128)\n",
            "(50000, 1)\n",
            "(10000, 128)\n",
            "(10000, 1)\n"
          ]
        }
      ]
    },
    {
      "cell_type": "code",
      "source": [
        "from sklearn.preprocessing import OneHotEncoder\n",
        "\n",
        "# Use one-hot to process labels for training\n",
        "encoder = OneHotEncoder(sparse_output=False)\n",
        "\n",
        "\n",
        "y_train = y_train.reshape(50000,)\n",
        "y_test = y_test.reshape(10000,)\n",
        "y_train = encoder.fit_transform(y_train.reshape(-1, 1))\n",
        "y_test = encoder.fit_transform(y_test.reshape(-1, 1))\n"
      ],
      "metadata": {
        "id": "BGHkBhcC2PZa"
      },
      "execution_count": 4,
      "outputs": []
    },
    {
      "cell_type": "markdown",
      "source": [
        "### 1.3 PCA PCA dimensionality reduction"
      ],
      "metadata": {
        "id": "w5586UWJ2WIY"
      }
    },
    {
      "cell_type": "code",
      "source": [
        "from sklearn.preprocessing import StandardScaler\n",
        "\n",
        "X1 = X_train\n",
        "X2 = X_test\n",
        "\n",
        "k = 64     # The demension\n",
        "\n",
        "scaler = StandardScaler()\n",
        "X_standardized = scaler.fit_transform(X1)\n",
        "X_standardized_test = scaler.fit_transform(X2)\n",
        "cov_matrix = np.cov(X_standardized.T)\n",
        "eigenvalues, eigenvectors = np.linalg.eig(cov_matrix)\n",
        "eigen_pairs = [(np.abs(eigenvalues[i]), eigenvectors[:, i]) for i in range(len(eigenvalues))]\n",
        "eigen_pairs.sort(key=lambda x: x[0], reverse=True)\n",
        "\n",
        "projection_matrix = np.hstack([pair[1].reshape(-1, 1) for pair in eigen_pairs[:k]])\n",
        "X_train_pca = X_standardized.dot(projection_matrix)\n",
        "X_test_pca = X_standardized_test.dot(projection_matrix)"
      ],
      "metadata": {
        "id": "Fq20PChIuHa-"
      },
      "execution_count": 5,
      "outputs": []
    },
    {
      "cell_type": "code",
      "source": [
        "print(X_train_pca.shape)\n",
        "print(X_test)"
      ],
      "metadata": {
        "colab": {
          "base_uri": "https://localhost:8080/"
        },
        "id": "ssORkR90u3lC",
        "outputId": "15d0f057-1765-4602-e1b3-16f0e4740c6c"
      },
      "execution_count": 6,
      "outputs": [
        {
          "output_type": "stream",
          "name": "stdout",
          "text": [
            "(50000, 64)\n",
            "[[-3.47967057e+00  9.06426369e-01  1.25195572e+00 ...  8.61874214e-01\n",
            "   6.31729322e-01  2.60908392e-01]\n",
            " [ 9.94315784e+00 -9.58055259e+00  5.06857801e+00 ...  1.63248427e-01\n",
            "  -3.18574521e-01 -2.67055346e-01]\n",
            " [ 4.70429957e+00 -8.83720616e+00  4.10928532e+00 ...  5.57491883e-02\n",
            "   2.65140024e-01  1.67865616e-01]\n",
            " ...\n",
            " [-1.52911933e+01  2.50308666e+00 -2.27169405e-01 ... -2.68454413e-01\n",
            "  -6.99688324e-02 -6.08919845e-01]\n",
            " [-5.85707877e+00  2.04437491e+00  3.65488937e+00 ...  7.85415991e-01\n",
            "   6.86344933e-03  2.01131653e-02]\n",
            " [-1.76542944e+00 -1.89117258e+00 -2.14885246e+00 ... -4.11516440e-01\n",
            "   1.87276097e-02  2.38587672e-01]]\n"
          ]
        }
      ]
    },
    {
      "cell_type": "markdown",
      "source": [
        "## 2.Function Definition"
      ],
      "metadata": {
        "id": "EkfOI9fwVEqr"
      }
    },
    {
      "cell_type": "markdown",
      "source": [
        "### 2.1 Activation function"
      ],
      "metadata": {
        "id": "3qBAEwPZjs_Z"
      }
    },
    {
      "cell_type": "markdown",
      "source": [
        "ReLU(x) = max(x,0)"
      ],
      "metadata": {
        "id": "JHAiJaikxJBG"
      }
    },
    {
      "cell_type": "code",
      "source": [
        "def relu(x):\n",
        "    return np.maximum(0, x)\n",
        "\n",
        "def relu_derivative(x):\n",
        "    return (x > 0).astype(float)"
      ],
      "metadata": {
        "id": "SN2FzQKUj1jr"
      },
      "execution_count": 7,
      "outputs": []
    },
    {
      "cell_type": "markdown",
      "source": [
        "### 2.2 Softmax and cross-entropy function"
      ],
      "metadata": {
        "id": "AaDRWV__8fez"
      }
    },
    {
      "cell_type": "markdown",
      "source": [
        "softmax(x_i) = e^x_i / sum(e^x_j) for all j\n",
        "\n",
        "Cross entropy loss = -Σ(y_true * log(y_pred) + (1-y_true) * log(1-y_pred))"
      ],
      "metadata": {
        "id": "8i1888-3wqF8"
      }
    },
    {
      "cell_type": "code",
      "source": [
        "def softmax(x):\n",
        "    exp_x = np.exp(x - np.max(x, axis=1, keepdims=True))\n",
        "    return exp_x / np.sum(exp_x, axis=1, keepdims=True)\n",
        "\n",
        "def cross_entropy_loss(y_true, y_pred):\n",
        "    n_sample = y_true.shape[0]\n",
        "    return -np.sum(y_true * np.log(y_pred)) / n_sample"
      ],
      "metadata": {
        "id": "5u6Q-akg8elm"
      },
      "execution_count": 8,
      "outputs": []
    },
    {
      "cell_type": "markdown",
      "source": [
        "### 2.3 Dropout function"
      ],
      "metadata": {
        "id": "JQAgXAKLY2vq"
      }
    },
    {
      "cell_type": "code",
      "source": [
        "def dropout_forward(all_neu, dropout_rate):\n",
        "    dropout_neu = (np.random.rand(*all_neu.shape) >= dropout_rate) / (1 - dropout_rate)\n",
        "    keep_neu = all_neu * dropout_neu\n",
        "    return keep_neu, dropout_neu\n",
        "\n",
        "def dropout_backward(bac_keep, dropout_neu):\n",
        "    bac_neu = bac_keep * dropout_neu\n",
        "    return bac_neu"
      ],
      "metadata": {
        "id": "lWLXj1OmY1js"
      },
      "execution_count": 9,
      "outputs": []
    },
    {
      "cell_type": "markdown",
      "source": [
        "### 2.4 Mini-batch splitting function"
      ],
      "metadata": {
        "id": "Pd2JHTtbYqO_"
      }
    },
    {
      "cell_type": "code",
      "source": [
        "def mini_batch_split(X, y, batch_size):\n",
        "    batch = np.arange(X.shape[0])\n",
        "    np.random.shuffle(batch)\n",
        "    X_shuffled = X[batch]\n",
        "    y_shuffled = y[batch]\n",
        "    mini_batches = [(X_shuffled[i:i + batch_size], y_shuffled[i:i + batch_size]) for i in range(0, X.shape[0], batch_size)]\n",
        "    return mini_batches"
      ],
      "metadata": {
        "id": "Q7ImAa_-qEC5"
      },
      "execution_count": 10,
      "outputs": []
    },
    {
      "cell_type": "markdown",
      "source": [
        "## 3. MLP Implementation"
      ],
      "metadata": {
        "id": "tpz-p29qkox1"
      }
    },
    {
      "cell_type": "markdown",
      "source": [
        "### 3.1 **Three** HiddenLayers definition and initialization"
      ],
      "metadata": {
        "id": "vAORwc-HfAoK"
      }
    },
    {
      "cell_type": "code",
      "source": [
        "# Define the neural structure\n",
        "input_size = X_train.shape[1]\n",
        "hidden_size1 = 256\n",
        "hidden_size2 = 128\n",
        "hidden_size3 = 64\n",
        "output_size = y_train.shape[1]\n",
        "\n",
        "\n",
        "# Initialize the weights and biases\n",
        "# Wi, bi: The weights matrix and bias\n",
        "\n",
        "W1 = np.random.randn(input_size, hidden_size1) / np.sqrt(input_size)\n",
        "b1 = np.zeros((1, hidden_size1))\n",
        "W2 = np.random.randn(hidden_size1, hidden_size2) / np.sqrt(hidden_size1)\n",
        "b2 = np.zeros((1, hidden_size2))\n",
        "W3 = np.random.randn(hidden_size2, hidden_size3) / np.sqrt(hidden_size2)\n",
        "b3 = np.zeros((1, hidden_size3))\n",
        "W4 = np.random.randn(hidden_size3, output_size) / np.sqrt(hidden_size3)\n",
        "b4 = np.zeros((1, output_size))\n",
        "\n"
      ],
      "metadata": {
        "id": "hwSkaHZuvsQO"
      },
      "execution_count": 28,
      "outputs": []
    },
    {
      "cell_type": "markdown",
      "source": [
        "### 3.2 Momentum-weights&biases initialization"
      ],
      "metadata": {
        "id": "7iFeRGsxlKTz"
      }
    },
    {
      "cell_type": "code",
      "source": [
        "# Initialize velocity for momentum\n",
        "Mom_W1 = np.zeros(W1.shape)\n",
        "Mom_b1 = np.zeros(b1.shape)\n",
        "Mom_W2 = np.zeros(W2.shape)\n",
        "Mom_b2 = np.zeros(b2.shape)\n",
        "Mom_W3 = np.zeros(W3.shape)\n",
        "Mom_b3 = np.zeros(b3.shape)\n",
        "Mom_W4 = np.zeros(W4.shape)\n",
        "Mom_b4 = np.zeros(b4.shape)"
      ],
      "metadata": {
        "id": "uMubtyxjXmUt"
      },
      "execution_count": 29,
      "outputs": []
    },
    {
      "cell_type": "markdown",
      "source": [
        "### 3.3 Training: forward propagation and backward propagation"
      ],
      "metadata": {
        "id": "_VxJp1w5LHD4"
      }
    },
    {
      "cell_type": "code",
      "source": [
        "import time\n",
        "\n",
        "# Define the parameters, which can be changed easily for model improvement\n",
        "epochs = 500\n",
        "learning_rate = 0.001\n",
        "momentum = 0.8\n",
        "weight_decay = 0.00001\n",
        "batch_size = 512\n",
        "dropout_rate = 0.2\n",
        "\n",
        "start_time = time.time()\n",
        "total_loss = []\n",
        "\n",
        "# Training loop\n",
        "for epoch in range(epochs):\n",
        "  mini_batches = mini_batch_split(X_train, y_train, batch_size)\n",
        "\n",
        "  for X_batch, y_batch in mini_batches:\n",
        "\n",
        "    # Forward propagation\n",
        "    # Zi, Ai: The initial output value of the layer and the activated value\n",
        "\n",
        "    Z1 = np.dot(X_batch, W1) + b1\n",
        "    A1 = relu(Z1)\n",
        "    #I only added the dropout method to the first hidden layer.\n",
        "    A1, dropout_mask1 = dropout_forward(A1, dropout_rate) \n",
        "    Z2 = np.dot(A1, W2) + b2\n",
        "    A2 = relu(Z2)\n",
        "    Z3 = np.dot(A2, W3) + b3\n",
        "    A3 = relu(Z3)\n",
        "    Z4 = np.dot(A3, W4) + b4\n",
        "    A4 = softmax(Z4)\n",
        "    \n",
        "    # Compute loss with weight decay\n",
        "    loss = cross_entropy_loss(y_batch, A4) + weight_decay * (np.sum(np.square(W1)) + np.sum(np.square(W2)) + np.sum(np.square(W3)) + np.sum(np.square(W4)))\n",
        "\n",
        "    # Backward propagation\n",
        "    # dZi, dWi, dbi: Output values from backward propagation and updated weights/biases\n",
        "\n",
        "    dZ4 = A4 - y_batch\n",
        "    dW4 = np.dot(A3.T, dZ4) / X_batch.shape[0]\n",
        "    db4 = np.sum(dZ4, axis=0, keepdims=True) / X_batch.shape[0]\n",
        "    dA3 = np.dot(dZ4, W4.T)\n",
        "    dZ3 = dA3 * relu_derivative(Z3)\n",
        "    dW3 = np.dot(A2.T, dZ3) / X_batch.shape[0]\n",
        "    db3 = np.sum(dZ3, axis=0, keepdims=True) / X_batch.shape[0]\n",
        "    dA2 = np.dot(dZ3, W3.T)\n",
        "    dZ2 = dA2 * relu_derivative(Z2)\n",
        "    dW2 = np.dot(A1.T, dZ2) / X_batch.shape[0]\n",
        "    db2 = np.sum(dZ2, axis=0, keepdims=True) / X_batch.shape[0]\n",
        "    dA1 = np.dot(dZ2, W2.T)\n",
        "    dA1 = dropout_backward(dA1, dropout_mask1)\n",
        "    dZ1 = dA1 * relu_derivative(Z1)\n",
        "    dW1 = np.dot(X_batch.T, dZ1) + weight_decay * W1\n",
        "    db1 = np.sum(dZ1, axis=0, keepdims=True) / X_batch.shape[0]\n",
        "\n",
        "    # Update gradients with weight decay\n",
        "    dW1 += weight_decay * W1\n",
        "    dW2 += weight_decay * W2\n",
        "    dW3 += weight_decay * W3\n",
        "    dW4 += weight_decay * W4\n",
        "\n",
        "    # Update weights and biases with momentum\n",
        "    Mom_W4 = momentum * Mom_W4 + learning_rate * dW4\n",
        "    W4 -= Mom_W4\n",
        "    Mom_b4 = momentum * Mom_b4 + learning_rate * db4\n",
        "    b4 -= Mom_b4\n",
        "\n",
        "    Mom_W3 = momentum * Mom_W3 + learning_rate * dW3\n",
        "    W3 -= Mom_W3\n",
        "    Mom_b3 = momentum * Mom_b3 + learning_rate * db3\n",
        "    b3 -= Mom_b3\n",
        "\n",
        "    Mom_W2 = momentum * Mom_W2 + learning_rate * dW2\n",
        "    W2 -= Mom_W2\n",
        "    Mom_b2 = momentum * Mom_b2 + learning_rate * db2\n",
        "    b2 -= Mom_b2\n",
        "\n",
        "    Mom_W1 = momentum * Mom_W1 + learning_rate * dW1\n",
        "    W1 -= Mom_W1\n",
        "    Mom_b1 = momentum * Mom_b1 + learning_rate * db1\n",
        "    b1 -= Mom_b1\n",
        "\n",
        "\n",
        "  total_loss.append(loss)\n",
        "  # Print loss every 10 epochs\n",
        "  if epoch % 10 == 0:\n",
        "    print(f\"Epoch {epoch}, Loss: {loss:.4f}\")\n",
        "\n",
        "end_time = time.time()"
      ],
      "metadata": {
        "colab": {
          "base_uri": "https://localhost:8080/"
        },
        "id": "LxHrhwdSLJFx",
        "outputId": "ffb3e999-3c18-42d2-d816-7aaca39c3f1e"
      },
      "execution_count": 37,
      "outputs": [
        {
          "output_type": "stream",
          "name": "stdout",
          "text": [
            "Epoch 0, Loss: 0.9731\n",
            "Epoch 10, Loss: 0.9968\n",
            "Epoch 20, Loss: 1.0589\n",
            "Epoch 30, Loss: 1.0290\n",
            "Epoch 40, Loss: 1.0055\n",
            "Epoch 50, Loss: 1.0696\n",
            "Epoch 60, Loss: 1.0554\n",
            "Epoch 70, Loss: 1.0054\n",
            "Epoch 80, Loss: 1.0067\n",
            "Epoch 90, Loss: 1.1137\n"
          ]
        }
      ]
    },
    {
      "cell_type": "code",
      "source": [
        "# Plot loss in epochs\n",
        "pl.figure(figsize=(15,4))\n",
        "pl.plot(total_loss)\n",
        "pl.grid()"
      ],
      "metadata": {
        "colab": {
          "base_uri": "https://localhost:8080/",
          "height": 368
        },
        "id": "tLtcJKb7rD0Q",
        "outputId": "87892c6e-b0a9-4868-8960-90b6a741cb88"
      },
      "execution_count": 38,
      "outputs": [
        {
          "output_type": "display_data",
          "data": {
            "text/plain": [
              "<Figure size 1500x400 with 1 Axes>"
            ],
            "image/png": "[encoded data removed]"
          },
          "metadata": {}
        }
      ]
    },
    {
      "cell_type": "markdown",
      "source": [
        "## 4. Test and Evaluation"
      ],
      "metadata": {
        "id": "pIqPUhwALUSb"
      }
    },
    {
      "cell_type": "code",
      "source": [
        "from sklearn.metrics import accuracy_score       \n",
        "from sklearn.metrics import precision_score\n",
        "from sklearn.metrics import recall_score\n",
        "\n",
        "# The test is actually to perform the forward propagation process again\n",
        "Z1_test = np.dot(X_test, W1) + b1\n",
        "A1_test = relu(Z1_test)\n",
        "Z2_test = np.dot(A1_test, W2) + b2\n",
        "A2_test = relu(Z2_test)\n",
        "Z3_test = np.dot(A2_test, W3) + b3\n",
        "A3_test = relu(Z3_test)\n",
        "Z4_test = np.dot(A3_test, W4) + b4\n",
        "A4_test = softmax(Z4_test)\n",
        "\n",
        "\n",
        "# Make prediction\n",
        "y_pred = np.argmax(A4_test, axis=1)\n",
        "y_true = np.argmax(y_test, axis=1)\n",
        "\n",
        "# Calculate the accuracy, precision and recall\n",
        "accuracy = accuracy_score(y_true, y_pred)\n",
        "precision = precision_score(y_true, y_pred, average='weighted')\n",
        "recall = recall_score(y_true, y_pred, average='weighted')\n",
        "\n",
        "print(f'Accuracy: {accuracy * 100:.2f}%')\n",
        "print(f'Precision: {precision * 100:.2f}%')\n",
        "print(f'Recall: {recall * 100:.2f}%')\n",
        "print('Time cost:', round(end_time-start_time,2), 'seconds')\n",
        "print(y_pred)\n",
        "print(y_true)"
      ],
      "metadata": {
        "colab": {
          "base_uri": "https://localhost:8080/"
        },
        "id": "gUD67g71wlww",
        "outputId": "3638c923-15ab-4ed7-a0bd-debecea91e7f"
      },
      "execution_count": 40,
      "outputs": [
        {
          "output_type": "stream",
          "name": "stdout",
          "text": [
            "Accuracy: 55.35%\n",
            "Precision: 55.27%\n",
            "Recall: 55.35%\n",
            "Time cost: 210.43 seconds\n",
            "[3 9 0 ... 3 2 7]\n",
            "[3 8 8 ... 5 1 7]\n"
          ]
        }
      ]
    },
    {
      "cell_type": "markdown",
      "source": [
        "## 5. Comparison and Improvement"
      ],
      "metadata": {
        "id": "7H8vJ7x-nueS"
      }
    },
    {
      "cell_type": "markdown",
      "source": [
        "###5.1 ONLY USED FOR COMPARISON: MLP classifier based on sklearn framework."
      ],
      "metadata": {
        "id": "_mR2v-MtFsds"
      }
    },
    {
      "cell_type": "code",
      "source": [
        "import numpy as np\n",
        "from sklearn.datasets import load_iris\n",
        "from sklearn.model_selection import train_test_split\n",
        "from sklearn.neural_network import MLPClassifier\n",
        "\n",
        "# I used sklearn to build the most basic MLP classifier, hoping to compare \n",
        "# it with my own MLP implemented above. Note: The classifiers in this part \n",
        "# are only used to compare the MLP I implemented manually, please do not \n",
        "# impose score penalties for this!\n",
        "\n",
        "start_time1 = time.time()\n",
        "\n",
        "X_train1 = np.load(DATASET_PATH + '/train_data.npy')\n",
        "X_test1 = np.load(DATASET_PATH + '/test_data.npy')\n",
        "\n",
        "y_train1 = np.load(DATASET_PATH + '/train_label.npy')\n",
        "y_test1 = np.load(DATASET_PATH + '/test_label.npy')\n",
        "y_train1 = y_train1.reshape(50000,)\n",
        "y_test1 = y_test1.reshape(10000,)\n",
        "\n",
        "\n",
        "mlp_classifier = MLPClassifier(hidden_layer_sizes=(100,), activation='relu', solver='adam', random_state=42, max_iter=500)\n",
        "\n",
        "mlp_classifier.fit(X_train1, y_train1)\n",
        "\n",
        "y_pred1 = mlp_classifier.predict(X_test1)\n",
        "\n",
        "accuracy1 = accuracy_score(y_test1, y_pred)\n",
        "print(f'Accuracy: {accuracy1 * 100:.2f}%')\n",
        "\n",
        "end_time1 = time.time()\n",
        "print('Time cost:', round(end_time1-start_time1,2), 'seconds')"
      ],
      "metadata": {
        "colab": {
          "base_uri": "https://localhost:8080/"
        },
        "id": "IWuJ_PJSDSnc",
        "outputId": "35aaa1d8-1203-4293-befe-8da73e6b20ba"
      },
      "execution_count": null,
      "outputs": [
        {
          "output_type": "stream",
          "name": "stdout",
          "text": [
            "Accuracy: 54.31%\n",
            "Time cost: 317.85 seconds\n"
          ]
        }
      ]
    },
    {
      "cell_type": "markdown",
      "source": [
        "###5.2 Performance improvement attempt: use GELU activation function instead of ReLU"
      ],
      "metadata": {
        "id": "5tcAsGzIoqXp"
      }
    },
    {
      "cell_type": "code",
      "source": [
        "from scipy.special import erf\n",
        "\n",
        "# Initialization, the same as privious code\n",
        "input_size = X_train.shape[1]\n",
        "hidden_size1 = 256\n",
        "hidden_size2 = 128\n",
        "hidden_size3 = 64\n",
        "output_size = y_train.shape[1]\n",
        "\n",
        "W1 = np.random.randn(input_size, hidden_size1) / np.sqrt(input_size)\n",
        "b1 = np.zeros((1, hidden_size1))\n",
        "W2 = np.random.randn(hidden_size1, hidden_size2) / np.sqrt(hidden_size1)\n",
        "b2 = np.zeros((1, hidden_size2))\n",
        "W3 = np.random.randn(hidden_size2, hidden_size3) / np.sqrt(hidden_size2)\n",
        "b3 = np.zeros((1, hidden_size3))\n",
        "W4 = np.random.randn(hidden_size3, output_size) / np.sqrt(hidden_size3)\n",
        "b4 = np.zeros((1, output_size))\n",
        "\n",
        "Mom_W1 = np.zeros(W1.shape)\n",
        "Mom_b1 = np.zeros(b1.shape)\n",
        "Mom_W2 = np.zeros(W2.shape)\n",
        "Mom_b2 = np.zeros(b2.shape)\n",
        "Mom_W3 = np.zeros(W3.shape)\n",
        "Mom_b3 = np.zeros(b3.shape)\n",
        "Mom_W4 = np.zeros(W4.shape)\n",
        "Mom_b4 = np.zeros(b4.shape)\n",
        "\n",
        "# Define the GELU function\n",
        "def gelu(x):\n",
        "    return 0.5 * x * (1 + erf(x / np.sqrt(2)))\n",
        "\n",
        "def gelu_derivative(x):\n",
        "    c = np.sqrt(2 / np.pi)\n",
        "    return 0.5 * (1 + erf(x / np.sqrt(2))) + c * x * np.exp(-x**2 / 2)\n",
        "\n",
        "# The same code as before, but changed ReLU activition function to GELU \n",
        "\n",
        "#From the above experiments it can be seen that the model converges very quickly, so here I reduced the epochs to 50\n",
        "epochs = 50   \n",
        "\n",
        "learning_rate = 0.005\n",
        "momentum = 0.9\n",
        "weight_decay = 0.00001\n",
        "batch_size = 5000\n",
        "dropout_rate = 0.5\n",
        "\n",
        "start_time = time.time()\n",
        "total_loss = []\n",
        "\n",
        "for epoch in range(epochs):\n",
        "  mini_batches = mini_batch_split(X_train, y_train, batch_size)\n",
        "\n",
        "  for X_batch, y_batch in mini_batches:\n",
        "\n",
        "    Z1 = np.dot(X_batch, W1) + b1\n",
        "    A1 = gelu(Z1)\n",
        "\n",
        "    A1, dropout_mask1 = dropout_forward(A1, dropout_rate) \n",
        "    Z2 = np.dot(A1, W2) + b2\n",
        "    A2 = gelu(Z2)\n",
        "    Z3 = np.dot(A2, W3) + b3\n",
        "    A3 = gelu(Z3)\n",
        "    Z4 = np.dot(A3, W4) + b4\n",
        "    A4 = softmax(Z4)\n",
        "\n",
        "    loss = cross_entropy_loss(y_batch, A4) + weight_decay * (np.sum(np.square(W1)) + np.sum(np.square(W2)) + np.sum(np.square(W3)) + np.sum(np.square(W4)))\n",
        "\n",
        "    dZ4 = A4 - y_batch\n",
        "    dW4 = np.dot(A3.T, dZ4) / X_batch.shape[0]\n",
        "    db4 = np.sum(dZ4, axis=0, keepdims=True) / X_batch.shape[0]\n",
        "    dA3 = np.dot(dZ4, W4.T)\n",
        "    dZ3 = dA3 * gelu_derivative(Z3)\n",
        "    dW3 = np.dot(A2.T, dZ3) / X_batch.shape[0]\n",
        "    db3 = np.sum(dZ3, axis=0, keepdims=True) / X_batch.shape[0]\n",
        "    dA2 = np.dot(dZ3, W3.T)\n",
        "    dZ2 = dA2 * gelu_derivative(Z2)\n",
        "    dW2 = np.dot(A1.T, dZ2) / X_batch.shape[0]\n",
        "    db2 = np.sum(dZ2, axis=0, keepdims=True) / X_batch.shape[0]\n",
        "    dA1 = np.dot(dZ2, W2.T)\n",
        "    dA1 = dropout_backward(dA1, dropout_mask1)\n",
        "    dZ1 = dA1 * gelu_derivative(Z1)\n",
        "    dW1 = np.dot(X_batch.T, dZ1) + weight_decay * W1\n",
        "    db1 = np.sum(dZ1, axis=0, keepdims=True) / X_batch.shape[0]\n",
        "\n",
        "    # Update gradients with weight decay\n",
        "    dW1 += weight_decay * W1\n",
        "    dW2 += weight_decay * W2\n",
        "    dW3 += weight_decay * W3\n",
        "    dW4 += weight_decay * W4\n",
        "\n",
        "    # Update weights and biases with momentum\n",
        "    Mom_W4 = momentum * Mom_W4 + learning_rate * dW4\n",
        "    W4 -= Mom_W4\n",
        "    Mom_b4 = momentum * Mom_b4 + learning_rate * db4\n",
        "    b4 -= Mom_b4\n",
        "\n",
        "    Mom_W3 = momentum * Mom_W3 + learning_rate * dW3\n",
        "    W3 -= Mom_W3\n",
        "    Mom_b3 = momentum * Mom_b3 + learning_rate * db3\n",
        "    b3 -= Mom_b3\n",
        "\n",
        "    Mom_W2 = momentum * Mom_W2 + learning_rate * dW2\n",
        "    W2 -= Mom_W2\n",
        "    Mom_b2 = momentum * Mom_b2 + learning_rate * db2\n",
        "    b2 -= Mom_b2\n",
        "\n",
        "    Mom_W1 = momentum * Mom_W1 + learning_rate * dW1\n",
        "    W1 -= Mom_W1\n",
        "    Mom_b1 = momentum * Mom_b1 + learning_rate * db1\n",
        "    b1 -= Mom_b1\n",
        "\n",
        "\n",
        "  total_loss.append(loss)\n",
        "  # Print loss every 10 epochs\n",
        "  if epoch % 10 == 0:\n",
        "    print(f\"Epoch {epoch}, Loss: {loss:.4f}\")\n",
        "\n",
        "end_time = time.time()\n"
      ],
      "metadata": {
        "colab": {
          "base_uri": "https://localhost:8080/"
        },
        "id": "0mUo6tpIo_kw",
        "outputId": "c1cec58b-5e69-43f4-8da4-427015e7104f"
      },
      "execution_count": null,
      "outputs": [
        {
          "output_type": "stream",
          "name": "stdout",
          "text": [
            "Epoch 0, Loss: 3.5930\n",
            "Epoch 10, Loss: 1.9606\n",
            "Epoch 20, Loss: 1.8405\n",
            "Epoch 30, Loss: 1.7437\n",
            "Epoch 40, Loss: 1.7150\n"
          ]
        }
      ]
    },
    {
      "cell_type": "code",
      "source": [
        "pl.figure(figsize=(15,4))\n",
        "pl.plot(total_loss)\n",
        "pl.grid()"
      ],
      "metadata": {
        "colab": {
          "base_uri": "https://localhost:8080/",
          "height": 321
        },
        "id": "QjEb5TlUHg7J",
        "outputId": "687e4541-a48f-4929-bf03-240d95ae5cd3"
      },
      "execution_count": null,
      "outputs": [
        {
          "output_type": "display_data",
          "data": {
            "text/plain": [
              "<Figure size 1500x400 with 1 Axes>"
            ],
            "image/png": "[encoded data removed]"
          },
          "metadata": {}
        }
      ]
    },
    {
      "cell_type": "code",
      "source": [
        "# The test is actually to perform the forward propagation process again\n",
        "Z1_test = np.dot(X_test, W1) + b1\n",
        "A1_test = relu(Z1_test)\n",
        "Z2_test = np.dot(A1_test, W2) + b2\n",
        "A2_test = relu(Z2_test)\n",
        "Z3_test = np.dot(A2_test, W3) + b3\n",
        "A3_test = relu(Z3_test)\n",
        "Z4_test = np.dot(A3_test, W4) + b4\n",
        "A4_test = softmax(Z4_test)\n",
        "\n",
        "# Make prediction\n",
        "y_pred = np.argmax(A4_test, axis=1)\n",
        "y_true = np.argmax(y_test, axis=1)\n",
        "\n",
        "# Calculate the accuracy, precision and recall\n",
        "accuracy = accuracy_score(y_true, y_pred)\n",
        "precision = precision_score(y_true, y_pred, average='weighted')\n",
        "recall = recall_score(y_true, y_pred, average='weighted')\n",
        "\n",
        "print(f'Accuracy: {accuracy * 100:.2f}%')\n",
        "print(f'Precision: {precision * 100:.2f}%')\n",
        "print(f'Recall: {recall * 100:.2f}%')\n",
        "print('Time cost:', round(end_time-start_time,2), 'seconds')\n",
        "print(y_pred)\n",
        "print(y_true)"
      ],
      "metadata": {
        "colab": {
          "base_uri": "https://localhost:8080/"
        },
        "id": "iQF3wwVNHmIb",
        "outputId": "5d2907b0-59a5-4761-e35c-944adf0d0463"
      },
      "execution_count": null,
      "outputs": [
        {
          "output_type": "stream",
          "name": "stdout",
          "text": [
            "Accuracy: 48.47%\n",
            "Precision: 47.80%\n",
            "Recall: 48.47%\n",
            "Time cost: 278.25 seconds\n",
            "[0 8 8 ... 5 4 7]\n",
            "[3 8 8 ... 5 1 7]\n"
          ]
        }
      ]
    },
    {
      "cell_type": "code",
      "source": [
        "# The test is actually to perform the forward propagation process again\n",
        "a = X_train[30000:40000]\n",
        "b = y_train[30000:40000]\n",
        "Z1_test = np.dot(a, W1) + b1\n",
        "A1_test = relu(Z1_test)\n",
        "Z2_test = np.dot(A1_test, W2) + b2\n",
        "A2_test = relu(Z2_test)\n",
        "Z3_test = np.dot(A2_test, W3) + b3\n",
        "A3_test = relu(Z3_test)\n",
        "Z4_test = np.dot(A3_test, W4) + b4\n",
        "A4_test = softmax(Z4_test)\n",
        "\n",
        "# Make prediction\n",
        "y_pred = np.argmax(A4_test, axis=1)\n",
        "y_true = np.argmax(b, axis=1)\n",
        "\n",
        "# Calculate the accuracy, precision and recall\n",
        "accuracy = accuracy_score(y_true, y_pred)\n",
        "precision = precision_score(y_true, y_pred, average='weighted')\n",
        "recall = recall_score(y_true, y_pred, average='weighted')\n",
        "\n",
        "print(f'Accuracy: {accuracy * 100:.2f}%')\n",
        "print(f'Precision: {precision * 100:.2f}%')\n",
        "print(f'Recall: {recall * 100:.2f}%')\n",
        "print('Time cost:', round(end_time-start_time,2), 'seconds')\n",
        "print(y_pred)\n",
        "print(y_true)"
      ],
      "metadata": {
        "colab": {
          "base_uri": "https://localhost:8080/"
        },
        "id": "okCW7qwxN7c3",
        "outputId": "5ad4ba2f-a284-46db-8673-b8a2e47554cf"
      },
      "execution_count": null,
      "outputs": [
        {
          "output_type": "stream",
          "name": "stdout",
          "text": [
            "Accuracy: 50.09%\n",
            "Precision: 49.22%\n",
            "Recall: 50.09%\n",
            "Time cost: 278.25 seconds\n",
            "[8 6 0 ... 6 0 8]\n",
            "[0 6 0 ... 6 2 8]\n"
          ]
        }
      ]
    },
    {
      "cell_type": "markdown",
      "source": [
        "## Summary"
      ],
      "metadata": {
        "id": "xtLKQNpNLOJ3"
      }
    }
  ]
}